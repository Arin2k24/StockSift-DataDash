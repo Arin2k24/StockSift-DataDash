{
 "cells": [
  {
   "cell_type": "code",
   "execution_count": 1,
   "id": "9fdb411d",
   "metadata": {},
   "outputs": [],
   "source": [
    "import os\n",
    "import importlib.util\n",
    "import pandas as pd\n",
    "import yfinance as yf\n",
    "from ta.momentum import RSIIndicator"
   ]
  },
  {
   "cell_type": "code",
   "execution_count": 2,
   "id": "95a2a24e",
   "metadata": {},
   "outputs": [],
   "source": [
    "def import_stocks(file_path):\n",
    "    if not os.path.exists(file_path):\n",
    "        raise FileNotFoundError(f\"File '{file_path}' not found.\")\n",
    "    spec = importlib.util.spec_from_file_location(\"stock_symbols\", file_path)\n",
    "    stock_module = importlib.util.module_from_spec(spec)\n",
    "    spec.loader.exec_module(stock_module)\n",
    "    \n",
    "    return stock_module.stock_symbols"
   ]
  },
  {
   "cell_type": "code",
   "execution_count": 3,
   "id": "159fc7f4",
   "metadata": {},
   "outputs": [],
   "source": [
    "def get_stock_data(ticker, start_date, end_date):\n",
    "    stock_data = yf.download(ticker, start=start_date, end=end_date)\n",
    "    return stock_data"
   ]
  },
  {
   "cell_type": "code",
   "execution_count": 34,
   "id": "4c6246d0",
   "metadata": {},
   "outputs": [],
   "source": [
    "def rsi_filter(stocks, rsi_threshold):\n",
    "    filtered_stocks = []\n",
    "    for stock in stocks:\n",
    "        rsi_indicator = RSIIndicator(stock['Close'])\n",
    "        current_rsi = rsi_indicator.rsi().iloc[-1]\n",
    "        \n",
    "        if (current_rsi <= rsi_threshold):\n",
    "            filtered_stocks.append(stock)\n",
    "        \n",
    "        return filtered_stocks"
   ]
  },
  {
   "cell_type": "code",
   "execution_count": 45,
   "id": "a0fd6402",
   "metadata": {},
   "outputs": [],
   "source": [
    "def main():\n",
    "    stock_symbols_file = \"C:\\\\Users\\\\arind\\\\OneDrive\\\\Desktop\\\\stocks.py\"  # Adjust the file path accordingly\n",
    "    stock_symbols = import_stocks(stock_symbols_file)\n",
    "\n",
    "    start_date = pd.Timestamp.today() - pd.DateOffset(months=1)\n",
    "    end_date = pd.Timestamp.today()\n",
    "\n",
    "    try:\n",
    "        all_stocks = []\n",
    "        \n",
    "        for symbol in stock_symbols:\n",
    "            stock_data = get_stock_data(symbol, start_date, end_date)\n",
    "            \n",
    "            # Drop any rows with NaN values\n",
    "            stock_data.dropna(inplace=True)\n",
    "            \n",
    "            if len(stock_data)>0:\n",
    "                all_stocks.append(stock_data)\n",
    "                \n",
    "        filtered_stocks = rsi_filter(all_stocks, 30)\n",
    "\n",
    "        if len(filtered_stocks) > 0:\n",
    "            print(f\"Stock: {symbol}\")\n",
    "        \n",
    "    except Exception as e:\n",
    "        print(\"Error fetching or processing data:\", e)"
   ]
  },
  {
   "cell_type": "code",
   "execution_count": 46,
   "id": "51a0d263",
   "metadata": {
    "scrolled": false
   },
   "outputs": [
    {
     "name": "stdout",
     "output_type": "stream",
     "text": [
      "[*********************100%***********************]  1 of 1 completed\n",
      "[*********************100%***********************]  1 of 1 completed\n",
      "[*********************100%***********************]  1 of 1 completed\n",
      "[*********************100%***********************]  1 of 1 completed\n",
      "[*********************100%***********************]  1 of 1 completed\n",
      "[*********************100%***********************]  1 of 1 completed\n",
      "[*********************100%***********************]  1 of 1 completed\n",
      "[*********************100%***********************]  1 of 1 completed\n",
      "[*********************100%***********************]  1 of 1 completed\n",
      "[*********************100%***********************]  1 of 1 completed\n",
      "[*********************100%***********************]  1 of 1 completed\n",
      "[*********************100%***********************]  1 of 1 completed\n",
      "[*********************100%***********************]  1 of 1 completed\n",
      "[*********************100%***********************]  1 of 1 completed\n",
      "[*********************100%***********************]  1 of 1 completed\n",
      "[*********************100%***********************]  1 of 1 completed\n",
      "[*********************100%***********************]  1 of 1 completed\n",
      "[*********************100%***********************]  1 of 1 completed\n",
      "[*********************100%***********************]  1 of 1 completed\n",
      "[*********************100%***********************]  1 of 1 completed\n",
      "[*********************100%***********************]  1 of 1 completed\n",
      "[*********************100%***********************]  1 of 1 completed\n",
      "[*********************100%***********************]  1 of 1 completed\n",
      "[*********************100%***********************]  1 of 1 completed\n",
      "[*********************100%***********************]  1 of 1 completed\n",
      "[*********************100%***********************]  1 of 1 completed\n",
      "[*********************100%***********************]  1 of 1 completed\n",
      "[*********************100%***********************]  1 of 1 completed\n",
      "[*********************100%***********************]  1 of 1 completed\n",
      "Stock: CIPLA.NS\n"
     ]
    }
   ],
   "source": [
    "if __name__ == \"__main__\":\n",
    "    main()"
   ]
  },
  {
   "cell_type": "code",
   "execution_count": null,
   "id": "67b84d98",
   "metadata": {},
   "outputs": [],
   "source": []
  }
 ],
 "metadata": {
  "kernelspec": {
   "display_name": "Python 3 (ipykernel)",
   "language": "python",
   "name": "python3"
  },
  "language_info": {
   "codemirror_mode": {
    "name": "ipython",
    "version": 3
   },
   "file_extension": ".py",
   "mimetype": "text/x-python",
   "name": "python",
   "nbconvert_exporter": "python",
   "pygments_lexer": "ipython3",
   "version": "3.11.3"
  }
 },
 "nbformat": 4,
 "nbformat_minor": 5
}
