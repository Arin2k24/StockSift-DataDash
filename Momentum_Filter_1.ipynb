{
 "cells": [
  {
   "cell_type": "code",
   "execution_count": 31,
   "id": "8459a8e0",
   "metadata": {},
   "outputs": [],
   "source": [
    "import os\n",
    "import importlib.util\n",
    "import pandas as pd\n",
    "import yfinance as yf"
   ]
  },
  {
   "cell_type": "code",
   "execution_count": 32,
   "id": "21cbde18",
   "metadata": {},
   "outputs": [],
   "source": [
    "def import_stocks(file_path):\n",
    "    if not os.path.exists(file_path):\n",
    "        raise FileNotFoundError(f\"File '{file_path}' not found.\")\n",
    "    spec = importlib.util.spec_from_file_location(\"stock_symbols\", file_path)\n",
    "    stock_module = importlib.util.module_from_spec(spec)\n",
    "    spec.loader.exec_module(stock_module)\n",
    "    \n",
    "    return stock_module.stock_symbols"
   ]
  },
  {
   "cell_type": "code",
   "execution_count": 33,
   "id": "ae30f2ff",
   "metadata": {},
   "outputs": [],
   "source": [
    "def calculate_momentum(data, period):\n",
    "    return data['Close'].rolling(window=period).sum()/period"
   ]
  },
  {
   "cell_type": "code",
   "execution_count": 34,
   "id": "abd6c3a7",
   "metadata": {},
   "outputs": [],
   "source": [
    "def calculate_vwap_close(data):\n",
    "    vwap = (data['Close'] * data['Volume']).cumsum() / data['Volume'].cumsum()\n",
    "    vwap_close_ratio = vwap / data['Close']\n",
    "    return vwap_close_ratio"
   ]
  },
  {
   "cell_type": "code",
   "execution_count": 35,
   "id": "022c693a",
   "metadata": {},
   "outputs": [],
   "source": [
    "def get_stock_data(ticker, start_date, end_date):\n",
    "    stock_data = yf.download(ticker, start=start_date, end=end_date)\n",
    "    return stock_data"
   ]
  },
  {
   "cell_type": "code",
   "execution_count": 42,
   "id": "82ba319d",
   "metadata": {},
   "outputs": [],
   "source": [
    "def main():\n",
    "    stock_symbols_file = \"C:\\\\Users\\\\arind\\\\OneDrive\\\\Desktop\\\\stocks.py\"  # Adjust the file path accordingly\n",
    "    stock_symbols = import_stocks(stock_symbols_file)\n",
    "\n",
    "    start_date = pd.Timestamp.today() - pd.DateOffset(months=1)\n",
    "    end_date = pd.Timestamp.today()\n",
    "\n",
    "    # Create a list to store common dates for all stocks\n",
    "    common_dates = None\n",
    "\n",
    "    filtered_symbols = []\n",
    "\n",
    "    try:\n",
    "        for symbol in stock_symbols:\n",
    "            try:\n",
    "                stock_data = get_stock_data(symbol, start_date, end_date)\n",
    "\n",
    "                # Drop any rows with NaN values\n",
    "                stock_data.dropna(inplace=True)\n",
    "\n",
    "                if common_dates is None:\n",
    "                    common_dates = set(stock_data.index)\n",
    "                else:\n",
    "                    common_dates = common_dates.intersection(set(stock_data.index))\n",
    "\n",
    "            except Exception as e:\n",
    "                print(f\"Failed download: [{symbol}]: {e}\")\n",
    "\n",
    "        # Convert common_dates set to a sorted list\n",
    "        common_dates = sorted(list(common_dates))\n",
    "\n",
    "        for symbol in stock_symbols:\n",
    "            try:\n",
    "                stock_data = get_stock_data(symbol, start_date, end_date)\n",
    "\n",
    "                # Filter the data to include only common dates for all stocks\n",
    "                stock_data = stock_data.loc[common_dates]\n",
    "\n",
    "                stock_data['1_week_momentum'] = calculate_momentum(stock_data, 5)\n",
    "                stock_data['1_month_momentum'] = calculate_momentum(stock_data, 22)\n",
    "\n",
    "                if len(stock_data) > 0:\n",
    "                    filtered_stocks = stock_data[stock_data['1_week_momentum'] > stock_data['1_month_momentum']]\n",
    "\n",
    "                    if len(filtered_stocks) > 0:\n",
    "                        filtered_symbols.append(symbol)\n",
    "\n",
    "                        vwap_close_ratio = calculate_vwap_close(filtered_stocks)\n",
    "\n",
    "                        # Filter further based on VWAP/Close ratio condition (VWAP/Close > 1)\n",
    "                        filtered_stocks = filtered_stocks[vwap_close_ratio > 1]\n",
    "                        \n",
    "                        if len(filtered_stocks) > 0:\n",
    "                            print(f\"Stock: {symbol}\")\n",
    "                            print(pd.DataFrame({'VWAP/Close Ratio': vwap_close_ratio}))\n",
    "                            print(\"--------------------\")\n",
    "\n",
    "            except Exception as e:\n",
    "                print(f\"Failed download: [{symbol}]: {e}\")\n",
    "\n",
    "    except Exception as e:\n",
    "        print(\"Error fetching or processing data:\", e)\n",
    "\n",
    "    print(\"Filtered Stock Symbols:\", filtered_symbols)"
   ]
  },
  {
   "cell_type": "code",
   "execution_count": 43,
   "id": "830e33a2",
   "metadata": {
    "scrolled": false
   },
   "outputs": [
    {
     "name": "stdout",
     "output_type": "stream",
     "text": [
      "[*********************100%***********************]  1 of 1 completed\n",
      "[*********************100%***********************]  1 of 1 completed\n",
      "[*********************100%***********************]  1 of 1 completed\n",
      "[*********************100%***********************]  1 of 1 completed\n",
      "[*********************100%***********************]  1 of 1 completed\n",
      "[*********************100%***********************]  1 of 1 completed\n",
      "[*********************100%***********************]  1 of 1 completed\n",
      "[*********************100%***********************]  1 of 1 completed\n",
      "[*********************100%***********************]  1 of 1 completed\n",
      "[*********************100%***********************]  1 of 1 completed\n",
      "[*********************100%***********************]  1 of 1 completed\n",
      "[*********************100%***********************]  1 of 1 completed\n",
      "[*********************100%***********************]  1 of 1 completed\n",
      "[*********************100%***********************]  1 of 1 completed\n",
      "[*********************100%***********************]  1 of 1 completed\n",
      "[*********************100%***********************]  1 of 1 completed\n",
      "[*********************100%***********************]  1 of 1 completed\n",
      "[*********************100%***********************]  1 of 1 completed\n",
      "[*********************100%***********************]  1 of 1 completed\n",
      "[*********************100%***********************]  1 of 1 completed\n",
      "[*********************100%***********************]  1 of 1 completed\n",
      "[*********************100%***********************]  1 of 1 completed\n",
      "[*********************100%***********************]  1 of 1 completed\n",
      "[*********************100%***********************]  1 of 1 completed\n",
      "[*********************100%***********************]  1 of 1 completed\n",
      "[*********************100%***********************]  1 of 1 completed\n",
      "[*********************100%***********************]  1 of 1 completed\n",
      "[*********************100%***********************]  1 of 1 completed\n",
      "[*********************100%***********************]  1 of 1 completed\n",
      "[*********************100%***********************]  1 of 1 completed\n",
      "[*********************100%***********************]  1 of 1 completed\n",
      "[*********************100%***********************]  1 of 1 completed\n",
      "[*********************100%***********************]  1 of 1 completed\n",
      "[*********************100%***********************]  1 of 1 completed\n",
      "[*********************100%***********************]  1 of 1 completed\n",
      "[*********************100%***********************]  1 of 1 completed\n",
      "[*********************100%***********************]  1 of 1 completed\n",
      "[*********************100%***********************]  1 of 1 completed\n",
      "[*********************100%***********************]  1 of 1 completed\n",
      "[*********************100%***********************]  1 of 1 completed\n",
      "[*********************100%***********************]  1 of 1 completed\n",
      "[*********************100%***********************]  1 of 1 completed\n",
      "[*********************100%***********************]  1 of 1 completed\n",
      "[*********************100%***********************]  1 of 1 completed\n",
      "[*********************100%***********************]  1 of 1 completed\n",
      "[*********************100%***********************]  1 of 1 completed\n",
      "[*********************100%***********************]  1 of 1 completed\n",
      "[*********************100%***********************]  1 of 1 completed\n",
      "[*********************100%***********************]  1 of 1 completed\n",
      "[*********************100%***********************]  1 of 1 completed\n",
      "[*********************100%***********************]  1 of 1 completed\n",
      "[*********************100%***********************]  1 of 1 completed\n",
      "[*********************100%***********************]  1 of 1 completed\n",
      "[*********************100%***********************]  1 of 1 completed\n",
      "[*********************100%***********************]  1 of 1 completed\n",
      "[*********************100%***********************]  1 of 1 completed\n",
      "[*********************100%***********************]  1 of 1 completed\n",
      "[*********************100%***********************]  1 of 1 completed\n",
      "Filtered Stock Symbols: ['ADANIENT.NS', 'TATASTEEL.NS', 'ONGC.NS', 'HINDALCO.NS', 'NTPC.NS', 'LT.NS', 'TCS.NS', 'COALINDIA.NS', 'BHARTIARTL.NS', 'WIPRO.NS', 'CIPLA.NS']\n"
     ]
    }
   ],
   "source": [
    "if __name__ == \"__main__\":\n",
    "    main()"
   ]
  },
  {
   "cell_type": "code",
   "execution_count": 7,
   "id": "e58c6a4f",
   "metadata": {},
   "outputs": [],
   "source": [
    "# Copy stock symbol list and feed into analysis tool"
   ]
  }
 ],
 "metadata": {
  "kernelspec": {
   "display_name": "Python 3 (ipykernel)",
   "language": "python",
   "name": "python3"
  },
  "language_info": {
   "codemirror_mode": {
    "name": "ipython",
    "version": 3
   },
   "file_extension": ".py",
   "mimetype": "text/x-python",
   "name": "python",
   "nbconvert_exporter": "python",
   "pygments_lexer": "ipython3",
   "version": "3.11.3"
  }
 },
 "nbformat": 4,
 "nbformat_minor": 5
}
